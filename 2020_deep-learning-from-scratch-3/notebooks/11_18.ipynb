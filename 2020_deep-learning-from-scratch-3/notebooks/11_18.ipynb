{
  "nbformat": 4,
  "nbformat_minor": 0,
  "metadata": {
    "colab": {
      "name": "11-18.ipynb",
      "provenance": [],
      "collapsed_sections": [
        "AhVtccxMTYxL",
        "pD3ybyAbTWNe",
        "UYqdO13VV-Ld",
        "zi2rKjqOYYMr",
        "UAvWzW26arSA"
      ]
    },
    "kernelspec": {
      "name": "python3",
      "display_name": "Python 3"
    },
    "language_info": {
      "name": "python"
    }
  },
  "cells": [
    {
      "cell_type": "markdown",
      "metadata": {
        "id": "AhVtccxMTYxL"
      },
      "source": [
        "# 10 가변 길이 인수(순전파 편)"
      ]
    },
    {
      "cell_type": "code",
      "metadata": {
        "id": "4Vj1OnCjTAcv"
      },
      "source": [
        "import numpy as np"
      ],
      "execution_count": 1,
      "outputs": []
    },
    {
      "cell_type": "code",
      "metadata": {
        "id": "Rz3AlRRETJYg"
      },
      "source": [
        "def as_array(x):\n",
        "    if np.isscalar(x):\n",
        "        return np.array(x)\n",
        "    return x"
      ],
      "execution_count": 2,
      "outputs": []
    },
    {
      "cell_type": "code",
      "metadata": {
        "id": "4iBfBYWkS2bT"
      },
      "source": [
        "class Variable:\n",
        "    def __init__(self, data):\n",
        "        self.data = data\n",
        "        self.grad = None\n",
        "        self.creator = None\n",
        "\n",
        "    def set_creator(self, func):\n",
        "        self.creator = func\n",
        "\n",
        "    def backward(self):\n",
        "        if self.grad is None:\n",
        "            self.grad = np.ones_like(self.data)\n",
        "            \n",
        "        funcs = [self.creator]\n",
        "        while funcs:\n",
        "            f = funcs.pop()\n",
        "            x, y = f.input, f.output\n",
        "            x.grad = f.backward(y.grad)\n",
        "\n",
        "            if x.creator is not None:\n",
        "                funcs.append(x.creator)   "
      ],
      "execution_count": 3,
      "outputs": []
    },
    {
      "cell_type": "code",
      "metadata": {
        "id": "Kr3O_T00R7V1"
      },
      "source": [
        "class Function:\n",
        "    def __call__(self, inputs):\n",
        "        xs = [x.data for x in inputs]\n",
        "        ys = self.forward(xs)\n",
        "        outputs = [Variable(as_array(y)) for y in ys]\n",
        "\n",
        "        for output in outputs:\n",
        "            output.set_creator(self)\n",
        "        self.inputs = inputs\n",
        "        self.outputs = outputs\n",
        "        return outputs\n",
        "\n",
        "    def forward(self, xs):\n",
        "        raise NotImplementedError()\n",
        "    \n",
        "    def backward(self, gys):\n",
        "        raise NotImplementedError()"
      ],
      "execution_count": 4,
      "outputs": []
    },
    {
      "cell_type": "code",
      "metadata": {
        "id": "r1WnQtE9Sk4D"
      },
      "source": [
        "class Add(Function):\n",
        "    def forward(self, xs):\n",
        "        x0, x1 = xs\n",
        "        y = x0 + x1\n",
        "        return (y,)"
      ],
      "execution_count": 5,
      "outputs": []
    },
    {
      "cell_type": "code",
      "metadata": {
        "colab": {
          "base_uri": "https://localhost:8080/"
        },
        "id": "1oN7cLHkSvdB",
        "outputId": "df40d7de-9630-47ec-a6ac-1e13935176ba"
      },
      "source": [
        "xs = [Variable(np.array(2)), Variable(np.array(3))]\n",
        "f = Add()\n",
        "ys = f(xs)\n",
        "print(ys[0].data)"
      ],
      "execution_count": 6,
      "outputs": [
        {
          "output_type": "stream",
          "name": "stdout",
          "text": [
            "5\n"
          ]
        }
      ]
    },
    {
      "cell_type": "markdown",
      "metadata": {
        "id": "pD3ybyAbTWNe"
      },
      "source": [
        "# 11 가변 길이 인수(개선 편)"
      ]
    },
    {
      "cell_type": "code",
      "metadata": {
        "id": "-D3SzrbfS-uH"
      },
      "source": [
        "class Function:\n",
        "    def __call__(self, *inputs):\n",
        "        xs = [x.data for x in inputs]\n",
        "        ys = self.forward(*xs)\n",
        "        if not isinstance(ys, tuple):\n",
        "            ys = (ys,)\n",
        "        outputs = [Variable(as_array(y)) for y in ys]\n",
        "\n",
        "        for output in outputs:\n",
        "            output.set_creator(self)\n",
        "        self.inputs = inputs\n",
        "        self.outputs = outputs\n",
        "\n",
        "        return outputs if len(outputs) > 1 else outputs[0]\n",
        "\n",
        "    def forward(self, xs):\n",
        "        raise NotImplementedError()\n",
        "    \n",
        "    def backward(self, gys):\n",
        "        raise NotImplementedError()"
      ],
      "execution_count": 7,
      "outputs": []
    },
    {
      "cell_type": "code",
      "metadata": {
        "id": "Hy8OzwIuU9nV"
      },
      "source": [
        "class Add(Function):\n",
        "    def forward(self, x0, x1):\n",
        "        y = x0 + x1\n",
        "        return y"
      ],
      "execution_count": 8,
      "outputs": []
    },
    {
      "cell_type": "code",
      "metadata": {
        "colab": {
          "base_uri": "https://localhost:8080/"
        },
        "id": "4kK6RACVUExj",
        "outputId": "10fb55a7-8c39-45a3-b972-c846791ea5b0"
      },
      "source": [
        "x0 = Variable(np.array(2))\n",
        "x1 = Variable(np.array(3))\n",
        "f = Add()\n",
        "y = f(x0, x1)\n",
        "print(y.data)"
      ],
      "execution_count": 9,
      "outputs": [
        {
          "output_type": "stream",
          "name": "stdout",
          "text": [
            "5\n"
          ]
        }
      ]
    },
    {
      "cell_type": "code",
      "metadata": {
        "id": "D4yP-E4-UH10"
      },
      "source": [
        "def add(x0, x1):\n",
        "    return Add()(x0, x1)"
      ],
      "execution_count": 10,
      "outputs": []
    },
    {
      "cell_type": "code",
      "metadata": {
        "colab": {
          "base_uri": "https://localhost:8080/"
        },
        "id": "0mzUZkGGVzq7",
        "outputId": "1c146160-820a-4e49-e3c3-118e2c5aeee4"
      },
      "source": [
        "x0 = Variable(np.array(2))\n",
        "x1 = Variable(np.array(3))\n",
        "y = add(x0, x1)\n",
        "print(y.data)"
      ],
      "execution_count": 11,
      "outputs": [
        {
          "output_type": "stream",
          "name": "stdout",
          "text": [
            "5\n"
          ]
        }
      ]
    },
    {
      "cell_type": "markdown",
      "metadata": {
        "id": "UYqdO13VV-Ld"
      },
      "source": [
        "# 13 가변 길이 인수(역전파 편)"
      ]
    },
    {
      "cell_type": "code",
      "metadata": {
        "id": "TodY7GqVV5ZB"
      },
      "source": [
        "class Add(Function):\n",
        "    def forward(self, x0, x1):\n",
        "        y = x0 + x1\n",
        "        return y\n",
        "    def backward(self, gy):\n",
        "        return gy, gy"
      ],
      "execution_count": 12,
      "outputs": []
    },
    {
      "cell_type": "code",
      "metadata": {
        "id": "PBKHVL-rWbue"
      },
      "source": [
        "class Variable:\n",
        "    def __init__(self, data):\n",
        "        self.data = data\n",
        "        self.grad = None\n",
        "        self.creator = None\n",
        "\n",
        "    def set_creator(self, func):\n",
        "        self.creator = func\n",
        "\n",
        "    def backward(self):\n",
        "        if self.grad is None:\n",
        "            self.grad = np.ones_like(self.data)\n",
        "            \n",
        "        funcs = [self.creator]\n",
        "        while funcs:\n",
        "            f = funcs.pop()\n",
        "            gys = [output.grad for output in f.outputs]\n",
        "            gxs = f.backward(*gys)\n",
        "            if not isinstance(gxs, tuple):\n",
        "                gxs = (gxs,)\n",
        "            \n",
        "            for x, gx in zip(f.inputs, gxs):\n",
        "                x.grad = gx\n",
        "\n",
        "                if x.creator is not None:\n",
        "                    funcs.append(x.creator)"
      ],
      "execution_count": 13,
      "outputs": []
    },
    {
      "cell_type": "code",
      "metadata": {
        "id": "9CZsG94TXHhr"
      },
      "source": [
        "class Square(Function):\n",
        "    def forward(self, x):\n",
        "        y = x ** 2\n",
        "        return y\n",
        "    \n",
        "    def backward(self, gy):\n",
        "        x = self.inputs[0].data\n",
        "        gx = 2 * x * gy \n",
        "        return gx\n",
        "\n",
        "def square(x):\n",
        "    return Square()(x)"
      ],
      "execution_count": 14,
      "outputs": []
    },
    {
      "cell_type": "code",
      "metadata": {
        "colab": {
          "base_uri": "https://localhost:8080/"
        },
        "id": "kgWSVezsXVWy",
        "outputId": "a07db0ab-28ca-4998-a4cc-3ab460616fb4"
      },
      "source": [
        "x = Variable(np.array(2.))\n",
        "y = Variable(np.array(3.))\n",
        "\n",
        "z = add(square(x), square(y))\n",
        "z.backward()\n",
        "print(z.data)\n",
        "print(x.grad)\n",
        "print(y.grad)"
      ],
      "execution_count": 15,
      "outputs": [
        {
          "output_type": "stream",
          "name": "stdout",
          "text": [
            "13.0\n",
            "4.0\n",
            "6.0\n"
          ]
        }
      ]
    },
    {
      "cell_type": "markdown",
      "metadata": {
        "id": "zi2rKjqOYYMr"
      },
      "source": [
        "# 14 같은 변수 반복 사용"
      ]
    },
    {
      "cell_type": "code",
      "metadata": {
        "colab": {
          "base_uri": "https://localhost:8080/"
        },
        "id": "VJws-iW_XgwK",
        "outputId": "7d7ab53d-9c77-41c2-b0e7-a13dac3a6c79"
      },
      "source": [
        "x = Variable(np.array(3.0))\n",
        "y = add(x, x)\n",
        "print('y.data:', y.data)\n",
        "\n",
        "y.backward()\n",
        "print('x.grad:', x.grad)"
      ],
      "execution_count": 16,
      "outputs": [
        {
          "output_type": "stream",
          "name": "stdout",
          "text": [
            "y.data: 6.0\n",
            "x.grad: 1.0\n"
          ]
        }
      ]
    },
    {
      "cell_type": "code",
      "metadata": {
        "id": "_hwPjdrmYfZG"
      },
      "source": [
        "class Variable:\n",
        "    def __init__(self, data):\n",
        "        self.data = data\n",
        "        self.grad = None\n",
        "        self.creator = None\n",
        "\n",
        "    def set_creator(self, func):\n",
        "        self.creator = func\n",
        "\n",
        "    def backward(self):\n",
        "        if self.grad is None:\n",
        "            self.grad = np.ones_like(self.data)\n",
        "            \n",
        "        funcs = [self.creator]\n",
        "        while funcs:\n",
        "            f = funcs.pop()\n",
        "            gys = [output.grad for output in f.outputs]\n",
        "            gxs = f.backward(*gys)\n",
        "            if not isinstance(gxs, tuple):\n",
        "                gxs = (gxs,)\n",
        "            \n",
        "            for x, gx in zip(f.inputs, gxs):\n",
        "                if x.grad is None:\n",
        "                    x.grad = gx\n",
        "                else:\n",
        "                    x.grad = x.grad + gx\n",
        "\n",
        "                if x.creator is not None:\n",
        "                    funcs.append(x.creator)"
      ],
      "execution_count": 17,
      "outputs": []
    },
    {
      "cell_type": "code",
      "metadata": {
        "colab": {
          "base_uri": "https://localhost:8080/"
        },
        "id": "NrZgwYuzZe2T",
        "outputId": "d569bc43-a693-414d-8419-fdd64fd8b041"
      },
      "source": [
        "x = Variable(np.array(3.0))\n",
        "y = add(add(x, x), x)\n",
        "y.backward()\n",
        "print(x.grad)"
      ],
      "execution_count": 18,
      "outputs": [
        {
          "output_type": "stream",
          "name": "stdout",
          "text": [
            "3.0\n"
          ]
        }
      ]
    },
    {
      "cell_type": "code",
      "metadata": {
        "colab": {
          "base_uri": "https://localhost:8080/"
        },
        "id": "1-p1igU9ZjgM",
        "outputId": "4cc7d47b-3465-42a0-86a1-b86d0f98c4b4"
      },
      "source": [
        "x = Variable(np.array(3.))\n",
        "y = add(x, x)\n",
        "y.backward()\n",
        "print(x.grad)\n",
        "\n",
        "y = add(add(x, x), x)\n",
        "y.backward()\n",
        "print(x.grad)"
      ],
      "execution_count": 19,
      "outputs": [
        {
          "output_type": "stream",
          "name": "stdout",
          "text": [
            "2.0\n",
            "5.0\n"
          ]
        }
      ]
    },
    {
      "cell_type": "code",
      "metadata": {
        "id": "eoUtpXDWZy8i"
      },
      "source": [
        "class Variable:\n",
        "    def __init__(self, data):\n",
        "        self.data = data\n",
        "        self.grad = None\n",
        "        self.creator = None\n",
        "\n",
        "    def set_creator(self, func):\n",
        "        self.creator = func\n",
        "\n",
        "    def backward(self):\n",
        "        if self.grad is None:\n",
        "            self.grad = np.ones_like(self.data)\n",
        "            \n",
        "        funcs = [self.creator]\n",
        "        while funcs:\n",
        "            f = funcs.pop()\n",
        "            gys = [output.grad for output in f.outputs]\n",
        "            gxs = f.backward(*gys)\n",
        "            if not isinstance(gxs, tuple):\n",
        "                gxs = (gxs,)\n",
        "            \n",
        "            for x, gx in zip(f.inputs, gxs):\n",
        "                if x.grad is None:\n",
        "                    x.grad = gx\n",
        "                else:\n",
        "                    x.grad = x.grad + gx\n",
        "\n",
        "                if x.creator is not None:\n",
        "                    funcs.append(x.creator)\n",
        "    \n",
        "    def cleargrad(self):\n",
        "        self.grad = None"
      ],
      "execution_count": 20,
      "outputs": []
    },
    {
      "cell_type": "code",
      "metadata": {
        "colab": {
          "base_uri": "https://localhost:8080/"
        },
        "id": "gG7qyfagaKcw",
        "outputId": "13725141-da10-4e14-f849-7ee2d51fa386"
      },
      "source": [
        "x = Variable(np.array(3.))\n",
        "y = add(x, x)\n",
        "y.backward()\n",
        "print(x.grad)\n",
        "\n",
        "x.cleargrad()\n",
        "y = add(add(x, x), x)\n",
        "y.backward()\n",
        "print(x.grad)"
      ],
      "execution_count": 21,
      "outputs": [
        {
          "output_type": "stream",
          "name": "stdout",
          "text": [
            "2.0\n",
            "3.0\n"
          ]
        }
      ]
    },
    {
      "cell_type": "markdown",
      "metadata": {
        "id": "UAvWzW26arSA"
      },
      "source": [
        "# 16 복잡한 계산 그래프(구현 편)"
      ]
    },
    {
      "cell_type": "code",
      "metadata": {
        "id": "-ELGvdulaPWv"
      },
      "source": [
        "class Variable:\n",
        "    def __init__(self, data):\n",
        "        if data is not None:\n",
        "            if not isinstance(data, np.ndarray):\n",
        "                raise TypeError('{}은(는) 지원하지 않습니다.'.format(type(data)))\n",
        "\n",
        "        self.data = data\n",
        "        self.grad = None\n",
        "        self.creator = None\n",
        "        self.generation = 0\n",
        "\n",
        "    def set_creator(self, func):\n",
        "        self.creator = func\n",
        "        self.generation = func.generation + 1\n",
        "\n",
        "    def backward(self):\n",
        "        if self.grad is None:\n",
        "            self.grad = np.ones_like(self.data)\n",
        "            \n",
        "        funcs = [self.creator]\n",
        "        while funcs:\n",
        "            f = funcs.pop()\n",
        "            gys = [output.grad for output in f.outputs]\n",
        "            gxs = f.backward(*gys)\n",
        "            if not isinstance(gxs, tuple):\n",
        "                gxs = (gxs,)\n",
        "            \n",
        "            for x, gx in zip(f.inputs, gxs):\n",
        "                if x.grad is None:\n",
        "                    x.grad = gx\n",
        "                else:\n",
        "                    x.grad = x.grad + gx\n",
        "\n",
        "                if x.creator is not None:\n",
        "                    funcs.append(x.creator)\n",
        "    \n",
        "    def cleargrad(self):\n",
        "        self.grad = None"
      ],
      "execution_count": 22,
      "outputs": []
    },
    {
      "cell_type": "code",
      "metadata": {
        "id": "XuVrwcayOY-r"
      },
      "source": [
        "class Function:\n",
        "    def __call__(self, *inputs):\n",
        "        xs = [x.data for x in inputs]\n",
        "        ys = self.forward(*xs)\n",
        "        if not isinstance(ys, tuple):\n",
        "            ys = (ys,)\n",
        "        outputs = [Variable(as_array(y)) for y in ys]\n",
        "\n",
        "        self.generation = max([x.generation for x in inputs])\n",
        "        for output in outputs:\n",
        "            output.set_creator(self)\n",
        "        self.inputs = inputs\n",
        "        self.outputs = outputs\n",
        "\n",
        "        return outputs if len(outputs) > 1 else outputs[0]\n",
        "\n",
        "    def forward(self, xs):\n",
        "        raise NotImplementedError()\n",
        "    \n",
        "    def backward(self, gys):\n",
        "        raise NotImplementedError()"
      ],
      "execution_count": 23,
      "outputs": []
    },
    {
      "cell_type": "code",
      "metadata": {
        "colab": {
          "base_uri": "https://localhost:8080/"
        },
        "id": "I_PtQ9agO76t",
        "outputId": "d34be25f-31d2-4063-c90f-963d4cebb2dd"
      },
      "source": [
        "generations = [2, 0, 1, 4, 2]\n",
        "funcs = []\n",
        "\n",
        "for g in generations:\n",
        "    f = Function()\n",
        "    f.generation = g\n",
        "    funcs.append(f)\n",
        "\n",
        "[f.generation for f in funcs]"
      ],
      "execution_count": 24,
      "outputs": [
        {
          "output_type": "execute_result",
          "data": {
            "text/plain": [
              "[2, 0, 1, 4, 2]"
            ]
          },
          "metadata": {},
          "execution_count": 24
        }
      ]
    },
    {
      "cell_type": "code",
      "metadata": {
        "colab": {
          "base_uri": "https://localhost:8080/"
        },
        "id": "HVgjDOW6PMMX",
        "outputId": "5f6fe796-8732-4c89-db96-491027e9a415"
      },
      "source": [
        "funcs.sort(key = lambda x: x.generation)\n",
        "[f.generation for f in funcs]"
      ],
      "execution_count": 25,
      "outputs": [
        {
          "output_type": "execute_result",
          "data": {
            "text/plain": [
              "[0, 1, 2, 2, 4]"
            ]
          },
          "metadata": {},
          "execution_count": 25
        }
      ]
    },
    {
      "cell_type": "code",
      "metadata": {
        "colab": {
          "base_uri": "https://localhost:8080/"
        },
        "id": "rV9o4ZHyPY3_",
        "outputId": "b2f267ef-3e66-4eba-8f2d-3b66c8b56712"
      },
      "source": [
        "f = funcs.pop()\n",
        "f.generation"
      ],
      "execution_count": 26,
      "outputs": [
        {
          "output_type": "execute_result",
          "data": {
            "text/plain": [
              "4"
            ]
          },
          "metadata": {},
          "execution_count": 26
        }
      ]
    },
    {
      "cell_type": "code",
      "metadata": {
        "id": "zUKk5PScPcbV"
      },
      "source": [
        "class Variable:\n",
        "    def __init__(self, data):\n",
        "        if data is not None:\n",
        "            if not isinstance(data, np.ndarray):\n",
        "                raise TypeError('{}은(는) 지원하지 않습니다.'.format(type(data)))\n",
        "\n",
        "        self.data = data\n",
        "        self.grad = None\n",
        "        self.creator = None\n",
        "        self.generation = 0\n",
        "\n",
        "    def set_creator(self, func):\n",
        "        self.creator = func\n",
        "        self.generation = func.generation + 1\n",
        "\n",
        "    def backward(self):\n",
        "        if self.grad is None:\n",
        "            self.grad = np.ones_like(self.data)\n",
        "            \n",
        "        funcs = []\n",
        "        seen_set = set()\n",
        "\n",
        "        def add_func(f):\n",
        "            if f not in seen_set:\n",
        "                funcs.append(f)\n",
        "                seen_set.add(f)\n",
        "                funcs.sort(key=lambda x: x.generation)\n",
        "        add_func(self.creator)\n",
        "\n",
        "        while funcs:\n",
        "            f = funcs.pop()\n",
        "            gys = [output.grad for output in f.outputs]\n",
        "            gxs = f.backward(*gys)\n",
        "            if not isinstance(gxs, tuple):\n",
        "                gxs = (gxs,)\n",
        "            \n",
        "            for x, gx in zip(f.inputs, gxs):\n",
        "                if x.grad is None:\n",
        "                    x.grad = gx\n",
        "                else:\n",
        "                    x.grad = x.grad + gx\n",
        "\n",
        "                if x.creator is not None:\n",
        "                    add_func(x.creator)\n",
        "    \n",
        "    def cleargrad(self):\n",
        "        self.grad = None"
      ],
      "execution_count": 27,
      "outputs": []
    },
    {
      "cell_type": "code",
      "metadata": {
        "id": "skYzsHFSQMIs"
      },
      "source": [
        "class Square(Function):\n",
        "    def forward(self, x):\n",
        "        y = x ** 2\n",
        "        return y\n",
        "    \n",
        "    def backward(self, gy):\n",
        "        x = self.inputs[0].data\n",
        "        gx = 2 * x * gy \n",
        "        return gx\n",
        "\n",
        "def square(x):\n",
        "    return Square()(x)"
      ],
      "execution_count": 28,
      "outputs": []
    },
    {
      "cell_type": "code",
      "metadata": {
        "id": "3kzfE5TEQP0E"
      },
      "source": [
        "class Add(Function):\n",
        "    def forward(self, x0, x1):\n",
        "        y = x0 + x1\n",
        "        return y\n",
        "    def backward(self, gy):\n",
        "        return gy, gy\n",
        "\n",
        "def add(x0, x1):\n",
        "    return Add()(x0, x1)"
      ],
      "execution_count": 29,
      "outputs": []
    },
    {
      "cell_type": "code",
      "metadata": {
        "colab": {
          "base_uri": "https://localhost:8080/"
        },
        "id": "WJlR4ZyaP4E2",
        "outputId": "e26c129e-53f4-49fa-d418-f9793f48ef30"
      },
      "source": [
        "x = Variable(np.array(2.0))\n",
        "a = square(x)\n",
        "y = add(square(a), square(a))\n",
        "y.backward()\n",
        "\n",
        "print(y.data)\n",
        "print(x.grad)"
      ],
      "execution_count": 30,
      "outputs": [
        {
          "output_type": "stream",
          "name": "stdout",
          "text": [
            "32.0\n",
            "64.0\n"
          ]
        }
      ]
    },
    {
      "cell_type": "markdown",
      "metadata": {
        "id": "FwDbJfIsRocx"
      },
      "source": [
        "# 17 메모리 관리와 순환 참조"
      ]
    },
    {
      "cell_type": "code",
      "metadata": {
        "id": "QOl2T_IDQATt"
      },
      "source": [
        "import weakref\n",
        "\n",
        "class Function:\n",
        "    def __call__(self, *inputs):\n",
        "        xs = [x.data for x in inputs]\n",
        "        ys = self.forward(*xs)\n",
        "        if not isinstance(ys, tuple):\n",
        "            ys = (ys,)\n",
        "        outputs = [Variable(as_array(y)) for y in ys]\n",
        "\n",
        "        self.generation = max([x.generation for x in inputs])\n",
        "        for output in outputs:\n",
        "            output.set_creator(self)\n",
        "        self.inputs = inputs\n",
        "        self.outputs = [weakref.ref(output) for output in outputs]\n",
        "        return outputs if len(outputs) > 1 else outputs[0]\n",
        "\n",
        "    def forward(self, xs):\n",
        "        raise NotImplementedError()\n",
        "    \n",
        "    def backward(self, gys):\n",
        "        raise NotImplementedError()"
      ],
      "execution_count": 31,
      "outputs": []
    },
    {
      "cell_type": "code",
      "metadata": {
        "id": "IzfkSBDNR7Ib"
      },
      "source": [
        "class Variable:\n",
        "    def __init__(self, data):\n",
        "        if data is not None:\n",
        "            if not isinstance(data, np.ndarray):\n",
        "                raise TypeError('{}은(는) 지원하지 않습니다.'.format(type(data)))\n",
        "\n",
        "        self.data = data\n",
        "        self.grad = None\n",
        "        self.creator = None\n",
        "        self.generation = 0\n",
        "\n",
        "    def set_creator(self, func):\n",
        "        self.creator = func\n",
        "        self.generation = func.generation + 1\n",
        "\n",
        "    def backward(self):\n",
        "        if self.grad is None:\n",
        "            self.grad = np.ones_like(self.data)\n",
        "            \n",
        "        funcs = []\n",
        "        seen_set = set()\n",
        "\n",
        "        def add_func(f):\n",
        "            if f not in seen_set:\n",
        "                funcs.append(f)\n",
        "                seen_set.add(f)\n",
        "                funcs.sort(key=lambda x: x.generation)\n",
        "        add_func(self.creator)\n",
        "\n",
        "        while funcs:\n",
        "            f = funcs.pop()\n",
        "            gys = [output().grad for output in f.outputs]\n",
        "            gxs = f.backward(*gys)\n",
        "            if not isinstance(gxs, tuple):\n",
        "                gxs = (gxs,)\n",
        "            \n",
        "            for x, gx in zip(f.inputs, gxs):\n",
        "                if x.grad is None:\n",
        "                    x.grad = gx\n",
        "                else:\n",
        "                    x.grad = x.grad + gx\n",
        "\n",
        "                if x.creator is not None:\n",
        "                    add_func(x.creator)\n",
        "    \n",
        "    def cleargrad(self):\n",
        "        self.grad = None"
      ],
      "execution_count": 41,
      "outputs": []
    },
    {
      "cell_type": "code",
      "metadata": {
        "id": "02k_BrU9R-zv"
      },
      "source": [
        "class Square(Function):\n",
        "    def forward(self, x):\n",
        "        y = x ** 2\n",
        "        return y\n",
        "    \n",
        "    def backward(self, gy):\n",
        "        x = self.inputs[0].data\n",
        "        gx = 2 * x * gy \n",
        "        return gx\n",
        "\n",
        "def square(x):\n",
        "    return Square()(x)"
      ],
      "execution_count": 42,
      "outputs": []
    },
    {
      "cell_type": "code",
      "metadata": {
        "id": "YHRjFKDtSBPl"
      },
      "source": [
        "class Add(Function):\n",
        "    def forward(self, x0, x1):\n",
        "        y = x0 + x1\n",
        "        return y\n",
        "    def backward(self, gy):\n",
        "        return gy, gy\n",
        "\n",
        "def add(x0, x1):\n",
        "    return Add()(x0, x1)"
      ],
      "execution_count": 43,
      "outputs": []
    },
    {
      "cell_type": "code",
      "metadata": {
        "id": "6ty44vT-SCeG"
      },
      "source": [
        "for i in range(10):\n",
        "    x = Variable(np.random.randn(10000))\n",
        "    y = square(square(square(x)))"
      ],
      "execution_count": 44,
      "outputs": []
    },
    {
      "cell_type": "markdown",
      "metadata": {
        "id": "6kekvejSSUU4"
      },
      "source": [
        "# 18 메모리 절약 모드"
      ]
    },
    {
      "cell_type": "code",
      "metadata": {
        "colab": {
          "base_uri": "https://localhost:8080/"
        },
        "id": "IZwV6U-5SL-x",
        "outputId": "0797ccbe-8891-4672-c99e-6ecc5bcd8125"
      },
      "source": [
        "x0 = Variable(np.array(1.0))\n",
        "x1 = Variable(np.array(1.0))\n",
        "t = add(x0, x1)\n",
        "y = add(x0, t)\n",
        "y.backward()\n",
        "\n",
        "print(y.grad, t.grad)\n",
        "print(x0.grad, x1.grad)"
      ],
      "execution_count": 45,
      "outputs": [
        {
          "output_type": "stream",
          "name": "stdout",
          "text": [
            "1.0 1.0\n",
            "2.0 1.0\n"
          ]
        }
      ]
    },
    {
      "cell_type": "code",
      "metadata": {
        "id": "I_cMq_ptSfGq"
      },
      "source": [
        "class Variable:\n",
        "    def __init__(self, data):\n",
        "        if data is not None:\n",
        "            if not isinstance(data, np.ndarray):\n",
        "                raise TypeError('{}은(는) 지원하지 않습니다.'.format(type(data)))\n",
        "\n",
        "        self.data = data\n",
        "        self.grad = None\n",
        "        self.creator = None\n",
        "        self.generation = 0\n",
        "\n",
        "    def set_creator(self, func):\n",
        "        self.creator = func\n",
        "        self.generation = func.generation + 1\n",
        "\n",
        "    def backward(self, retain_grad=False):\n",
        "        if self.grad is None:\n",
        "            self.grad = np.ones_like(self.data)\n",
        "            \n",
        "        funcs = []\n",
        "        seen_set = set()\n",
        "\n",
        "        def add_func(f):\n",
        "            if f not in seen_set:\n",
        "                funcs.append(f)\n",
        "                seen_set.add(f)\n",
        "                funcs.sort(key=lambda x: x.generation)\n",
        "        add_func(self.creator)\n",
        "\n",
        "        while funcs:\n",
        "            f = funcs.pop()\n",
        "            gys = [output().grad for output in f.outputs]\n",
        "            gxs = f.backward(*gys)\n",
        "            if not isinstance(gxs, tuple):\n",
        "                gxs = (gxs,)\n",
        "            \n",
        "            for x, gx in zip(f.inputs, gxs):\n",
        "                if x.grad is None:\n",
        "                    x.grad = gx\n",
        "                else:\n",
        "                    x.grad = x.grad + gx\n",
        "\n",
        "                if x.creator is not None:\n",
        "                    add_func(x.creator)\n",
        "\n",
        "            if not retain_grad:\n",
        "                for y in f.outputs:\n",
        "                    y().grad = None\n",
        "        \n",
        "    def cleargrad(self):\n",
        "        self.grad = None"
      ],
      "execution_count": 46,
      "outputs": []
    },
    {
      "cell_type": "code",
      "metadata": {
        "colab": {
          "base_uri": "https://localhost:8080/"
        },
        "id": "i32-pzZZFAlq",
        "outputId": "2ecc2c4e-a27b-47d7-98d7-4850c833ad7f"
      },
      "source": [
        "x0 = Variable(np.array(1.0))\n",
        "x1 = Variable(np.array(1.0))\n",
        "t = add(x0, x1)\n",
        "y = add(x0, t)\n",
        "y.backward()\n",
        "\n",
        "print(y.grad, t.grad)\n",
        "print(x0.grad, x1.grad)"
      ],
      "execution_count": 47,
      "outputs": [
        {
          "output_type": "stream",
          "name": "stdout",
          "text": [
            "None None\n",
            "2.0 1.0\n"
          ]
        }
      ]
    },
    {
      "cell_type": "code",
      "metadata": {
        "id": "zPRlxRTzFCxl"
      },
      "source": [
        "class Config:\n",
        "    enable_backprop = True"
      ],
      "execution_count": 50,
      "outputs": []
    },
    {
      "cell_type": "code",
      "metadata": {
        "id": "zG2kKK0qFmEc"
      },
      "source": [
        "import weakref\n",
        "\n",
        "class Function:\n",
        "    def __call__(self, *inputs):\n",
        "        xs = [x.data for x in inputs]\n",
        "        ys = self.forward(*xs)\n",
        "        if not isinstance(ys, tuple):\n",
        "            ys = (ys,)\n",
        "        outputs = [Variable(as_array(y)) for y in ys]\n",
        "\n",
        "        if Config.enable_backprop:\n",
        "            self.generation = max([x.generation for x in inputs])\n",
        "            for output in outputs:\n",
        "                output.set_creator(self)\n",
        "            self.inputs = inputs\n",
        "            self.outputs = [weakref.ref(output) for output in outputs]\n",
        "        return outputs if len(outputs) > 1 else outputs[0]\n",
        "\n",
        "    def forward(self, xs):\n",
        "        raise NotImplementedError()\n",
        "    \n",
        "    def backward(self, gys):\n",
        "        raise NotImplementedError()\n",
        "\n",
        "class Square(Function):\n",
        "    def forward(self, x):\n",
        "        y = x ** 2\n",
        "        return y\n",
        "    \n",
        "    def backward(self, gy):\n",
        "        x = self.inputs[0].data\n",
        "        gx = 2 * x * gy \n",
        "        return gx\n",
        "\n",
        "def square(x):\n",
        "    return Square()(x)\n",
        "\n",
        "class Add(Function):\n",
        "    def forward(self, x0, x1):\n",
        "        y = x0 + x1\n",
        "        return y\n",
        "    def backward(self, gy):\n",
        "        return gy, gy\n",
        "\n",
        "def add(x0, x1):\n",
        "    return Add()(x0, x1)"
      ],
      "execution_count": 69,
      "outputs": []
    },
    {
      "cell_type": "code",
      "metadata": {
        "colab": {
          "base_uri": "https://localhost:8080/"
        },
        "id": "RGCl4FhSGDwJ",
        "outputId": "ab3b81fb-680f-4f74-e89e-03d30f562015"
      },
      "source": [
        "Config.enable_backprop = True\n",
        "x = Variable(np.ones((100, 100, 100)))\n",
        "y = square(square(square(x)))\n",
        "y.backward()\n",
        "print(x.grad)"
      ],
      "execution_count": 73,
      "outputs": [
        {
          "output_type": "stream",
          "name": "stdout",
          "text": [
            "[[[8. 8. 8. ... 8. 8. 8.]\n",
            "  [8. 8. 8. ... 8. 8. 8.]\n",
            "  [8. 8. 8. ... 8. 8. 8.]\n",
            "  ...\n",
            "  [8. 8. 8. ... 8. 8. 8.]\n",
            "  [8. 8. 8. ... 8. 8. 8.]\n",
            "  [8. 8. 8. ... 8. 8. 8.]]\n",
            "\n",
            " [[8. 8. 8. ... 8. 8. 8.]\n",
            "  [8. 8. 8. ... 8. 8. 8.]\n",
            "  [8. 8. 8. ... 8. 8. 8.]\n",
            "  ...\n",
            "  [8. 8. 8. ... 8. 8. 8.]\n",
            "  [8. 8. 8. ... 8. 8. 8.]\n",
            "  [8. 8. 8. ... 8. 8. 8.]]\n",
            "\n",
            " [[8. 8. 8. ... 8. 8. 8.]\n",
            "  [8. 8. 8. ... 8. 8. 8.]\n",
            "  [8. 8. 8. ... 8. 8. 8.]\n",
            "  ...\n",
            "  [8. 8. 8. ... 8. 8. 8.]\n",
            "  [8. 8. 8. ... 8. 8. 8.]\n",
            "  [8. 8. 8. ... 8. 8. 8.]]\n",
            "\n",
            " ...\n",
            "\n",
            " [[8. 8. 8. ... 8. 8. 8.]\n",
            "  [8. 8. 8. ... 8. 8. 8.]\n",
            "  [8. 8. 8. ... 8. 8. 8.]\n",
            "  ...\n",
            "  [8. 8. 8. ... 8. 8. 8.]\n",
            "  [8. 8. 8. ... 8. 8. 8.]\n",
            "  [8. 8. 8. ... 8. 8. 8.]]\n",
            "\n",
            " [[8. 8. 8. ... 8. 8. 8.]\n",
            "  [8. 8. 8. ... 8. 8. 8.]\n",
            "  [8. 8. 8. ... 8. 8. 8.]\n",
            "  ...\n",
            "  [8. 8. 8. ... 8. 8. 8.]\n",
            "  [8. 8. 8. ... 8. 8. 8.]\n",
            "  [8. 8. 8. ... 8. 8. 8.]]\n",
            "\n",
            " [[8. 8. 8. ... 8. 8. 8.]\n",
            "  [8. 8. 8. ... 8. 8. 8.]\n",
            "  [8. 8. 8. ... 8. 8. 8.]\n",
            "  ...\n",
            "  [8. 8. 8. ... 8. 8. 8.]\n",
            "  [8. 8. 8. ... 8. 8. 8.]\n",
            "  [8. 8. 8. ... 8. 8. 8.]]]\n"
          ]
        }
      ]
    },
    {
      "cell_type": "code",
      "metadata": {
        "colab": {
          "base_uri": "https://localhost:8080/"
        },
        "id": "4ivBkrK8GQLA",
        "outputId": "ab698fcc-27ed-4610-8177-06788937cf4d"
      },
      "source": [
        "Config.enable_backprop = False\n",
        "x = Variable(np.ones((100, 100, 100)))\n",
        "y = square(square(square(x)))\n",
        "print(x.grad)"
      ],
      "execution_count": 72,
      "outputs": [
        {
          "output_type": "stream",
          "name": "stdout",
          "text": [
            "None\n"
          ]
        }
      ]
    },
    {
      "cell_type": "code",
      "metadata": {
        "colab": {
          "base_uri": "https://localhost:8080/"
        },
        "id": "p-EwznF9GbGX",
        "outputId": "eaab2dbb-6fcf-4faa-818f-80888e7247c3"
      },
      "source": [
        "import contextlib\n",
        "@contextlib.contextmanager\n",
        "def config_test():\n",
        "    print('start')\n",
        "    try:\n",
        "        yield\n",
        "    finally:\n",
        "        print('done')\n",
        "\n",
        "with config_test():\n",
        "    print('process...')"
      ],
      "execution_count": 74,
      "outputs": [
        {
          "output_type": "stream",
          "name": "stdout",
          "text": [
            "start\n",
            "process...\n",
            "done\n"
          ]
        }
      ]
    },
    {
      "cell_type": "code",
      "metadata": {
        "id": "mCOPeJBwGdm6"
      },
      "source": [
        "import contextlib\n",
        "@contextlib.contextmanager\n",
        "def using_config(name, value):\n",
        "    old_value = getattr(Config, name)\n",
        "    setattr(Config, name, value)\n",
        "    try:\n",
        "        yield\n",
        "    finally:\n",
        "        setattr(Config, name, old_value)"
      ],
      "execution_count": 75,
      "outputs": []
    },
    {
      "cell_type": "code",
      "metadata": {
        "colab": {
          "base_uri": "https://localhost:8080/"
        },
        "id": "w87OUEQiHSWD",
        "outputId": "5596b3f5-90da-4c4f-ea49-3a7a3205344d"
      },
      "source": [
        "with using_config('enable_backprop', True):\n",
        "    x = Variable(np.array(2.0))\n",
        "    y = square(x)\n",
        "    y.backward()\n",
        "    print(x.grad)"
      ],
      "execution_count": 76,
      "outputs": [
        {
          "output_type": "stream",
          "name": "stdout",
          "text": [
            "4.0\n"
          ]
        }
      ]
    },
    {
      "cell_type": "code",
      "metadata": {
        "colab": {
          "base_uri": "https://localhost:8080/"
        },
        "id": "q_vJd1ktHZEH",
        "outputId": "e4368fd7-3239-4ef0-cd3a-d7b69e5cd2a4"
      },
      "source": [
        "def no_grad():\n",
        "    return using_config('enable_backprop', False)\n",
        "\n",
        "with no_grad():\n",
        "    x = Variable(np.array(2.0))\n",
        "    y = square(x)\n",
        "    print(x.grad)"
      ],
      "execution_count": 80,
      "outputs": [
        {
          "output_type": "stream",
          "name": "stdout",
          "text": [
            "None\n"
          ]
        }
      ]
    },
    {
      "cell_type": "markdown",
      "metadata": {
        "id": "2TBvpd0SIT7p"
      },
      "source": [
        "# 19 변수 사용성 개선"
      ]
    },
    {
      "cell_type": "code",
      "metadata": {
        "id": "DHF5oop_ILmb"
      },
      "source": [
        "class Variable:\n",
        "    def __init__(self, data, name=None):\n",
        "        if data is not None:\n",
        "            if not isinstance(data, np.ndarray):\n",
        "                raise TypeError('{}은(는) 지원하지 않습니다.'.format(type(data)))\n",
        "\n",
        "        self.data = data\n",
        "        self.name = name\n",
        "        self.grad = None\n",
        "        self.creator = None\n",
        "        self.generation = 0\n",
        "\n",
        "    def set_creator(self, func):\n",
        "        self.creator = func\n",
        "        self.generation = func.generation + 1\n",
        "\n",
        "    def backward(self, retain_grad=False):\n",
        "        if self.grad is None:\n",
        "            self.grad = np.ones_like(self.data)\n",
        "            \n",
        "        funcs = []\n",
        "        seen_set = set()\n",
        "\n",
        "        def add_func(f):\n",
        "            if f not in seen_set:\n",
        "                funcs.append(f)\n",
        "                seen_set.add(f)\n",
        "                funcs.sort(key=lambda x: x.generation)\n",
        "        add_func(self.creator)\n",
        "\n",
        "        while funcs:\n",
        "            f = funcs.pop()\n",
        "            gys = [output().grad for output in f.outputs]\n",
        "            gxs = f.backward(*gys)\n",
        "            if not isinstance(gxs, tuple):\n",
        "                gxs = (gxs,)\n",
        "            \n",
        "            for x, gx in zip(f.inputs, gxs):\n",
        "                if x.grad is None:\n",
        "                    x.grad = gx\n",
        "                else:\n",
        "                    x.grad = x.grad + gx\n",
        "\n",
        "                if x.creator is not None:\n",
        "                    add_func(x.creator)\n",
        "\n",
        "            if not retain_grad:\n",
        "                for y in f.outputs:\n",
        "                    y().grad = None\n",
        "        \n",
        "    def cleargrad(self):\n",
        "        self.grad = None\n",
        "\n",
        "    @property\n",
        "    def shape(self):\n",
        "        return self.data.shape\n",
        "\n",
        "    @property\n",
        "    def size(self):\n",
        "        return self.data.size\n",
        "\n",
        "    @property\n",
        "    def dtype(self):\n",
        "        return self.data.dtype\n",
        "\n",
        "    def __len__(self):\n",
        "        return len(self.data)\n",
        "\n",
        "    def __repr__(self):\n",
        "        if self.data is None:\n",
        "            return 'variable(None)'\n",
        "        p = str(self.data).replace('\\n', '\\n' + ' ' * 9)\n",
        "        return 'variable(' + p + ')'\n",
        "        "
      ],
      "execution_count": 89,
      "outputs": []
    },
    {
      "cell_type": "code",
      "metadata": {
        "colab": {
          "base_uri": "https://localhost:8080/"
        },
        "id": "POchGkr0IrPi",
        "outputId": "ba6790d2-da6b-4217-8055-58a47e9f84d7"
      },
      "source": [
        "x = Variable(np.array([[[1, 2, 3], [4, 5, 6]], [[11, 12, 13], [14, 15, 61]]]))\n",
        "print(x)"
      ],
      "execution_count": 91,
      "outputs": [
        {
          "output_type": "stream",
          "name": "stdout",
          "text": [
            "variable([[[ 1  2  3]\n",
            "           [ 4  5  6]]\n",
            "         \n",
            "          [[11 12 13]\n",
            "           [14 15 61]]])\n"
          ]
        }
      ]
    },
    {
      "cell_type": "markdown",
      "metadata": {
        "id": "TIwIK4WmJvfb"
      },
      "source": [
        "# 20 연산자 오버로드(1)"
      ]
    },
    {
      "cell_type": "code",
      "metadata": {
        "id": "9PXeApDJI3QY"
      },
      "source": [
        "class Mul(Function):\n",
        "    def forward(self, x0, x1):\n",
        "        y = x0 * x1\n",
        "        return y\n",
        "    \n",
        "    def backward(self, gy):\n",
        "        x0, x1 = self.inputs[0].data, self.inputs[1].data\n",
        "        return gy * x1, gy * x0\n",
        "\n",
        "def mul(x0, x1):\n",
        "    return Mul()(x0, x1)"
      ],
      "execution_count": 93,
      "outputs": []
    },
    {
      "cell_type": "code",
      "metadata": {
        "colab": {
          "base_uri": "https://localhost:8080/"
        },
        "id": "4DnpzZvnR5-W",
        "outputId": "b55ebc15-e3ee-47ee-8c21-663642690eb0"
      },
      "source": [
        "a = Variable(np.array(3.0))\n",
        "b = Variable(np.array(2.0))\n",
        "c = Variable(np.array(1.0))\n",
        "\n",
        "y = add(mul(a, b), c)\n",
        "y.backward()\n",
        "\n",
        "print(y)\n",
        "print(a.grad)\n",
        "print(b.grad)"
      ],
      "execution_count": 94,
      "outputs": [
        {
          "output_type": "stream",
          "name": "stdout",
          "text": [
            "variable(7.0)\n",
            "2.0\n",
            "3.0\n"
          ]
        }
      ]
    },
    {
      "cell_type": "code",
      "metadata": {
        "id": "dqzUQrjESFA-"
      },
      "source": [
        "class Variable:\n",
        "    def __init__(self, data, name=None):\n",
        "        if data is not None:\n",
        "            if not isinstance(data, np.ndarray):\n",
        "                raise TypeError('{}은(는) 지원하지 않습니다.'.format(type(data)))\n",
        "\n",
        "        self.data = data\n",
        "        self.name = name\n",
        "        self.grad = None\n",
        "        self.creator = None\n",
        "        self.generation = 0\n",
        "\n",
        "    def set_creator(self, func):\n",
        "        self.creator = func\n",
        "        self.generation = func.generation + 1\n",
        "\n",
        "    def backward(self, retain_grad=False):\n",
        "        if self.grad is None:\n",
        "            self.grad = np.ones_like(self.data)\n",
        "            \n",
        "        funcs = []\n",
        "        seen_set = set()\n",
        "\n",
        "        def add_func(f):\n",
        "            if f not in seen_set:\n",
        "                funcs.append(f)\n",
        "                seen_set.add(f)\n",
        "                funcs.sort(key=lambda x: x.generation)\n",
        "        add_func(self.creator)\n",
        "\n",
        "        while funcs:\n",
        "            f = funcs.pop()\n",
        "            gys = [output().grad for output in f.outputs]\n",
        "            gxs = f.backward(*gys)\n",
        "            if not isinstance(gxs, tuple):\n",
        "                gxs = (gxs,)\n",
        "            \n",
        "            for x, gx in zip(f.inputs, gxs):\n",
        "                if x.grad is None:\n",
        "                    x.grad = gx\n",
        "                else:\n",
        "                    x.grad = x.grad + gx\n",
        "\n",
        "                if x.creator is not None:\n",
        "                    add_func(x.creator)\n",
        "\n",
        "            if not retain_grad:\n",
        "                for y in f.outputs:\n",
        "                    y().grad = None\n",
        "        \n",
        "    def cleargrad(self):\n",
        "        self.grad = None\n",
        "\n",
        "    @property\n",
        "    def shape(self):\n",
        "        return self.data.shape\n",
        "\n",
        "    @property\n",
        "    def size(self):\n",
        "        return self.data.size\n",
        "\n",
        "    @property\n",
        "    def dtype(self):\n",
        "        return self.data.dtype\n",
        "\n",
        "    def __len__(self):\n",
        "        return len(self.data)\n",
        "\n",
        "    def __repr__(self):\n",
        "        if self.data is None:\n",
        "            return 'variable(None)'\n",
        "        p = str(self.data).replace('\\n', '\\n' + ' ' * 9)\n",
        "        return 'variable(' + p + ')'\n",
        "        \n",
        "Variable.__mul__ = mul\n",
        "Variable.__rmul__ = mul\n",
        "Variable.__add__ = add\n",
        "Variable.__radd__ = add"
      ],
      "execution_count": 102,
      "outputs": []
    },
    {
      "cell_type": "code",
      "metadata": {
        "id": "UJli1GaYSPVq"
      },
      "source": [
        "a = Variable(np.array(3.0))\n",
        "b = Variable(np.array(2.0))\n",
        "print(a * b)\n",
        "print(a + b)"
      ],
      "execution_count": 106,
      "outputs": []
    },
    {
      "cell_type": "markdown",
      "metadata": {
        "id": "7HyelmPFS-vu"
      },
      "source": [
        "# 21 연산자 오버로드(2)"
      ]
    },
    {
      "cell_type": "code",
      "metadata": {
        "id": "gruZJ176SUqr"
      },
      "source": [
        "def as_variable(obj):\n",
        "    if isinstance(obj, Variable):\n",
        "        return obj\n",
        "    return Variable(obj)"
      ],
      "execution_count": 108,
      "outputs": []
    },
    {
      "cell_type": "code",
      "metadata": {
        "id": "-nekVh3KS3HU"
      },
      "source": [
        "import weakref\n",
        "\n",
        "class Function:\n",
        "    def __call__(self, *inputs):\n",
        "        inputs = [as_variable(x) for x in inputs]\n",
        "        xs = [x.data for x in inputs]\n",
        "        ys = self.forward(*xs)\n",
        "        if not isinstance(ys, tuple):\n",
        "            ys = (ys,)\n",
        "        outputs = [Variable(as_array(y)) for y in ys]\n",
        "\n",
        "        if Config.enable_backprop:\n",
        "            self.generation = max([x.generation for x in inputs])\n",
        "            for output in outputs:\n",
        "                output.set_creator(self)\n",
        "            self.inputs = inputs\n",
        "            self.outputs = [weakref.ref(output) for output in outputs]\n",
        "        return outputs if len(outputs) > 1 else outputs[0]\n",
        "\n",
        "    def forward(self, xs):\n",
        "        raise NotImplementedError()\n",
        "    \n",
        "    def backward(self, gys):\n",
        "        raise NotImplementedError()\n",
        "\n",
        "class Square(Function):\n",
        "    def forward(self, x):\n",
        "        y = x ** 2\n",
        "        return y\n",
        "    \n",
        "    def backward(self, gy):\n",
        "        x = self.inputs[0].data\n",
        "        gx = 2 * x * gy \n",
        "        return gx\n",
        "\n",
        "def square(x):\n",
        "    return Square()(x)\n",
        "\n",
        "class Add(Function):\n",
        "    def forward(self, x0, x1):\n",
        "        x1 = as_array(x1)\n",
        "        y = x0 + x1\n",
        "        return y\n",
        "    def backward(self, gy):\n",
        "        return gy, gy\n",
        "\n",
        "    def add(x0, x1):\n",
        "        return Add()(x0, x1)\n",
        "\n",
        "\n",
        "class Mul(Function):\n",
        "    def forward(self, x0, x1):\n",
        "        y = x0 * x1\n",
        "        return y\n",
        "    \n",
        "    def backward(self, gy):\n",
        "        x0, x1 = self.inputs[0].data, self.inputs[1].data\n",
        "        return gy * x1, gy * x0\n",
        "\n",
        "def mul(x0, x1):\n",
        "    x1 = as_array(x1)\n",
        "    return Mul()(x0, x1)"
      ],
      "execution_count": 111,
      "outputs": []
    },
    {
      "cell_type": "code",
      "metadata": {
        "id": "2pKPvugHUYCp"
      },
      "source": [
        "class Variable:\n",
        "    __array_priority__ = 200\n",
        "    def __init__(self, data, name=None):\n",
        "        if data is not None:\n",
        "            if not isinstance(data, np.ndarray):\n",
        "                raise TypeError('{}은(는) 지원하지 않습니다.'.format(type(data)))\n",
        "\n",
        "        self.data = data\n",
        "        self.name = name\n",
        "        self.grad = None\n",
        "        self.creator = None\n",
        "        self.generation = 0\n",
        "\n",
        "    def set_creator(self, func):\n",
        "        self.creator = func\n",
        "        self.generation = func.generation + 1\n",
        "\n",
        "    def backward(self, retain_grad=False):\n",
        "        if self.grad is None:\n",
        "            self.grad = np.ones_like(self.data)\n",
        "            \n",
        "        funcs = []\n",
        "        seen_set = set()\n",
        "\n",
        "        def add_func(f):\n",
        "            if f not in seen_set:\n",
        "                funcs.append(f)\n",
        "                seen_set.add(f)\n",
        "                funcs.sort(key=lambda x: x.generation)\n",
        "        add_func(self.creator)\n",
        "\n",
        "        while funcs:\n",
        "            f = funcs.pop()\n",
        "            gys = [output().grad for output in f.outputs]\n",
        "            gxs = f.backward(*gys)\n",
        "            if not isinstance(gxs, tuple):\n",
        "                gxs = (gxs,)\n",
        "            \n",
        "            for x, gx in zip(f.inputs, gxs):\n",
        "                if x.grad is None:\n",
        "                    x.grad = gx\n",
        "                else:\n",
        "                    x.grad = x.grad + gx\n",
        "\n",
        "                if x.creator is not None:\n",
        "                    add_func(x.creator)\n",
        "\n",
        "            if not retain_grad:\n",
        "                for y in f.outputs:\n",
        "                    y().grad = None\n",
        "        \n",
        "    def cleargrad(self):\n",
        "        self.grad = None\n",
        "\n",
        "    @property\n",
        "    def shape(self):\n",
        "        return self.data.shape\n",
        "\n",
        "    @property\n",
        "    def size(self):\n",
        "        return self.data.size\n",
        "\n",
        "    @property\n",
        "    def dtype(self):\n",
        "        return self.data.dtype\n",
        "\n",
        "    def __len__(self):\n",
        "        return len(self.data)\n",
        "\n",
        "    def __repr__(self):\n",
        "        if self.data is None:\n",
        "            return 'variable(None)'\n",
        "        p = str(self.data).replace('\\n', '\\n' + ' ' * 9)\n",
        "        return 'variable(' + p + ')'\n",
        "        \n",
        "Variable.__mul__ = mul\n",
        "Variable.__rmul__ = mul\n",
        "Variable.__add__ = add\n",
        "Variable.__radd__ = add"
      ],
      "execution_count": 116,
      "outputs": []
    },
    {
      "cell_type": "code",
      "metadata": {
        "colab": {
          "base_uri": "https://localhost:8080/"
        },
        "id": "HaGkdEfqTfGg",
        "outputId": "d668e94b-428a-4dc1-8653-c8f9e1574805"
      },
      "source": [
        "x = Variable(np.array(2.0))\n",
        "y = x + np.array(3.0)\n",
        "print(y)\n",
        "\n",
        "print(2 * x)"
      ],
      "execution_count": 117,
      "outputs": [
        {
          "output_type": "stream",
          "name": "stdout",
          "text": [
            "variable(5.0)\n",
            "variable(4.0)\n"
          ]
        }
      ]
    },
    {
      "cell_type": "markdown",
      "metadata": {
        "id": "-saseiXxVGjN"
      },
      "source": [
        "# 22 연산자 오버로드(3)"
      ]
    },
    {
      "cell_type": "code",
      "metadata": {
        "id": "igHtqIlMTkFP"
      },
      "source": [
        "class Neg(Function):\n",
        "    def forward(self, x):\n",
        "        return -x\n",
        "    \n",
        "    def backward(self, gy):\n",
        "        return -gy\n",
        "\n",
        "def neg(x):\n",
        "    return Neg()(x)\n",
        "\n",
        "Variable.__neg__ = neg"
      ],
      "execution_count": 119,
      "outputs": []
    },
    {
      "cell_type": "code",
      "metadata": {
        "colab": {
          "base_uri": "https://localhost:8080/"
        },
        "id": "tA7mOQtHVTYD",
        "outputId": "ea74ebab-5681-48f8-860d-9faecf58a8ac"
      },
      "source": [
        "x = Variable(np.array(2.0))\n",
        "y = -x\n",
        "print(y)"
      ],
      "execution_count": 120,
      "outputs": [
        {
          "output_type": "stream",
          "name": "stdout",
          "text": [
            "variable(-2.0)\n"
          ]
        }
      ]
    },
    {
      "cell_type": "code",
      "metadata": {
        "id": "Ulx35MfPVYQA"
      },
      "source": [
        "class Sub(Function):\n",
        "    def forward(self, x0, x1):\n",
        "        y = x0 - x1\n",
        "        return y\n",
        "    \n",
        "    def backward(self, gy):\n",
        "        return gy, -gy\n",
        "\n",
        "def sub(x0, x1):\n",
        "    x1 = as_array(x1)\n",
        "    return Sub()(x0, x1)\n",
        "\n",
        "Variable.__sub__ = sub"
      ],
      "execution_count": 125,
      "outputs": []
    },
    {
      "cell_type": "code",
      "metadata": {
        "id": "7fVa_P7oVlOX"
      },
      "source": [
        "def rsub(x0, x1):\n",
        "    x1 = as_array(x1)\n",
        "    return Sub()(x1, x0)\n",
        "\n",
        "Variable.__rsub__ = rsub"
      ],
      "execution_count": 126,
      "outputs": []
    },
    {
      "cell_type": "code",
      "metadata": {
        "colab": {
          "base_uri": "https://localhost:8080/"
        },
        "id": "g5xJwReVVufz",
        "outputId": "c908f60c-696f-4ab3-ad0c-f048372c996f"
      },
      "source": [
        "x = Variable(np.array(2.0))\n",
        "print(2.0 - x)\n",
        "print(x - 1.0)"
      ],
      "execution_count": 128,
      "outputs": [
        {
          "output_type": "stream",
          "name": "stdout",
          "text": [
            "variable(0.0)\n",
            "variable(1.0)\n"
          ]
        }
      ]
    },
    {
      "cell_type": "code",
      "metadata": {
        "colab": {
          "base_uri": "https://localhost:8080/"
        },
        "id": "TBFKhw0tV2YK",
        "outputId": "8253471f-0dfc-4af1-81b0-446c4f696051"
      },
      "source": [
        "class Div(Function):\n",
        "    def forward(self, x0, x1):\n",
        "        y = x0 / x1\n",
        "        return y\n",
        "\n",
        "    def backward(self, gy):\n",
        "        x0, x1 = self.inputs[0].data, self.inputs[1].data\n",
        "        gx0 = gy / x1\n",
        "        gx1 = gy * (-x0 / x1 **2)\n",
        "        return gx0, gx1\n",
        "\n",
        "def div(x0, x1):\n",
        "    x1 = as_array(x1)\n",
        "    return Div()(x0, x1)\n",
        "\n",
        "def rdiv(x0, x1):\n",
        "    x1 = as_array(x1)\n",
        "    return Div()(x1, x0)\n",
        "\n",
        "Variable.__truediv__ = div\n",
        "Variable.__rtruediv__ = rdiv\n",
        "\n",
        "x = Variable(np.array(2.0))\n",
        "print(x / 2)\n",
        "print(2 / x)"
      ],
      "execution_count": 131,
      "outputs": [
        {
          "output_type": "stream",
          "name": "stdout",
          "text": [
            "variable(1.0)\n",
            "variable(1.0)\n"
          ]
        }
      ]
    },
    {
      "cell_type": "code",
      "metadata": {
        "id": "X1GXBhKBCSn_"
      },
      "source": [
        "class Pow(Function):\n",
        "    def __init__(self, c):\n",
        "        self.c = c\n",
        "    \n",
        "    def forward(self, x):\n",
        "        y = x ** self.c\n",
        "        return y\n",
        "\n",
        "    def backward(self, gy):\n",
        "        x = self.inputs[0].data\n",
        "        c = self.c\n",
        "        gx = c * x ** (c - 1) * gy\n",
        "        return gx\n",
        "\n",
        "def pow(x, c):\n",
        "    return Pow(c)(x)\n",
        "\n",
        "Variable.__pow__ = pow"
      ],
      "execution_count": 137,
      "outputs": []
    },
    {
      "cell_type": "code",
      "metadata": {
        "colab": {
          "base_uri": "https://localhost:8080/"
        },
        "id": "xk81vSvQC0DG",
        "outputId": "0702eeac-7ed2-48b2-c5e5-5c07d22293eb"
      },
      "source": [
        "x = Variable(np.array(2.0))\n",
        "y = x ** 3\n",
        "print(y)"
      ],
      "execution_count": 138,
      "outputs": [
        {
          "output_type": "stream",
          "name": "stdout",
          "text": [
            "variable(8.0)\n"
          ]
        }
      ]
    },
    {
      "cell_type": "code",
      "metadata": {
        "id": "IPbKgOHCEZhz"
      },
      "source": [
        ""
      ],
      "execution_count": null,
      "outputs": []
    }
  ]
}